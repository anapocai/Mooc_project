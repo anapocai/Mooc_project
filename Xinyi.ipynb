{
 "cells": [
  {
   "cell_type": "markdown",
   "metadata": {},
   "source": [
    "## Vaccinations:\n",
    "\n",
    "Vaccinations play an important role in our war against covid 19. The rate of people taking vaccines can affect the policy of countries facing covid 19. \n"
   ]
  },
  {
   "cell_type": "markdown",
   "metadata": {},
   "source": [
    "Firstly, we will divided the covid period into 5 categories.\n",
    "\n",
    "period 1: before 2020.09.01\n",
    "\n",
    "period 2: 2020.09.01 - 2021.02.28\n",
    "\n",
    "period 3: 2021.03.01 - 2022.08.31\n",
    "\n",
    "period 4: 2022.09.01 - 2023.02.28\n",
    "\n",
    "period 5: after 2023.03.01"
   ]
  },
  {
   "cell_type": "code",
   "execution_count": 2,
   "metadata": {},
   "outputs": [],
   "source": [
    "import pandas as pd\n",
    "\n",
    "url = \"https://raw.githubusercontent.com/owid/covid-19-data/refs/heads/master/public/data/owid-covid-data.csv\"\n",
    "\n",
    "df = pd.read_csv(url)"
   ]
  },
  {
   "cell_type": "code",
   "execution_count": 4,
   "metadata": {},
   "outputs": [],
   "source": [
    "df['date'] = pd.to_datetime(df['date'])\n",
    "\n",
    "def period_separation(date):\n",
    "    if date < pd.Timestamp('2020-09-01'):\n",
    "        return 'Period 1'\n",
    "    elif pd.Timestamp('2020-09-01') <= date <= pd.Timestamp('2021-02-28'):\n",
    "        return 'Period 2'\n",
    "    elif pd.Timestamp('2021-03-01') <= date <= pd.Timestamp('2022-08-31'):\n",
    "        return 'Period 3'\n",
    "    elif pd.Timestamp('2022-09-01') <= date <= pd.Timestamp('2023-02-28'):\n",
    "        return 'Period 4'\n",
    "    elif date > pd.Timestamp('2023-03-01'):\n",
    "        return 'Period 5'\n",
    "    else:\n",
    "        return 'Unknown'"
   ]
  },
  {
   "cell_type": "code",
   "execution_count": null,
   "metadata": {},
   "outputs": [],
   "source": [
    "df['Period'] = df[\"date\"].apply(period_separation)"
   ]
  }
 ],
 "metadata": {
  "kernelspec": {
   "display_name": "mock",
   "language": "python",
   "name": "python3"
  },
  "language_info": {
   "codemirror_mode": {
    "name": "ipython",
    "version": 3
   },
   "file_extension": ".py",
   "mimetype": "text/x-python",
   "name": "python",
   "nbconvert_exporter": "python",
   "pygments_lexer": "ipython3",
   "version": "3.11.11"
  }
 },
 "nbformat": 4,
 "nbformat_minor": 2
}
